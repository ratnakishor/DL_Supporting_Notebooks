{
 "cells": [
  {
   "cell_type": "markdown",
   "id": "584d3ba2-6a9e-4a5f-9595-bd1e5f9735a2",
   "metadata": {},
   "source": [
    "<h1 style=\"color:red\"/>Categories of Data</h1>"
   ]
  },
  {
   "cell_type": "markdown",
   "id": "103dc4fe-d959-4ba7-9655-ef52c2ce796a",
   "metadata": {},
   "source": [
    "### --> Vector data: 2D tensors of shape (#samples, #features)\n",
    "\n",
    "### --> Time series data or Sequence data: 3D tensors of shape (#samples, #timestamps, #features)\n",
    "\n",
    "### --> Images: 4D tensors of shape (#samples, height, width, #channels) or (#samples, #channels, height, width)\n",
    "\n",
    "### --> Video: 5D tensors of shape (#samples, #frames, height, width, #channels) or (#samples, #frames, #channels, height, width)"
   ]
  },
  {
   "cell_type": "markdown",
   "id": "d6f7a102-3ee6-4488-9416-1a1de91b213c",
   "metadata": {},
   "source": [
    "<h1 style=\"color:red\"/>Exploring Datasets</h1>"
   ]
  },
  {
   "cell_type": "markdown",
   "id": "6e2ed72b-92ce-4514-b5aa-42ecfea61bce",
   "metadata": {},
   "source": [
    "<h2 style=\"color:green\"/>MNIST Dataset</h2>"
   ]
  },
  {
   "cell_type": "code",
   "execution_count": 9,
   "id": "b52f77af-7461-4951-9adc-79469fac26fa",
   "metadata": {},
   "outputs": [],
   "source": [
    "from keras.datasets import mnist"
   ]
  },
  {
   "cell_type": "code",
   "execution_count": 10,
   "id": "f60ab08a-b997-46a3-8dec-d906a13986cd",
   "metadata": {},
   "outputs": [],
   "source": [
    "(X_train, y_train), (X_test, y_test) = mnist.load_data()"
   ]
  },
  {
   "cell_type": "code",
   "execution_count": 11,
   "id": "527bf312-d915-4dba-b2a4-24892d500311",
   "metadata": {},
   "outputs": [
    {
     "name": "stdout",
     "output_type": "stream",
     "text": [
      "Number of dimensions: 3\n"
     ]
    }
   ],
   "source": [
    "print(\"Number of dimensions:\", X_train.ndim)    "
   ]
  },
  {
   "cell_type": "code",
   "execution_count": 13,
   "id": "e3da823f-f82d-4141-8a49-1091b3bac897",
   "metadata": {},
   "outputs": [
    {
     "name": "stdout",
     "output_type": "stream",
     "text": [
      "***** Dataset types *****\n",
      "<class 'numpy.ndarray'>\n",
      "<class 'numpy.ndarray'>\n",
      "<class 'numpy.ndarray'>\n",
      "<class 'numpy.ndarray'>\n"
     ]
    }
   ],
   "source": [
    "print(\"***** Dataset types *****\")\n",
    "print(type(X_train))\n",
    "print(type(y_train))\n",
    "print(type(X_test))\n",
    "print(type(y_test))"
   ]
  },
  {
   "cell_type": "code",
   "execution_count": 4,
   "id": "a9fa9772-feb4-4907-a749-0d13b09bd510",
   "metadata": {},
   "outputs": [
    {
     "name": "stdout",
     "output_type": "stream",
     "text": [
      "Datasets Shape:\n",
      "(60000, 28, 28)\n",
      "(60000,)\n",
      "(10000, 28, 28)\n",
      "(10000,)\n"
     ]
    }
   ],
   "source": [
    "print(\"Datasets Shape:\")\n",
    "print(X_train.shape)\n",
    "print(y_train.shape)\n",
    "print(X_test.shape)\n",
    "print(y_test.shape)\n"
   ]
  },
  {
   "cell_type": "code",
   "execution_count": 5,
   "id": "485e5550-a60c-4417-b220-1dd2a3c9995e",
   "metadata": {},
   "outputs": [
    {
     "name": "stdout",
     "output_type": "stream",
     "text": [
      "uint8\n"
     ]
    }
   ],
   "source": [
    "print(X_train.dtype)"
   ]
  },
  {
   "cell_type": "markdown",
   "id": "b460fb53-e966-45d5-b10b-e868fff095f3",
   "metadata": {},
   "source": [
    "## Observations"
   ]
  },
  {
   "cell_type": "markdown",
   "id": "2b1dcfb2-2835-4616-bfd0-489470b960a6",
   "metadata": {},
   "source": [
    "### We have 3D tensors of 8-bit integers.\n",
    "\n",
    "### Training set contains 60000 grayscale images, each of which is of size 28X28 pixels."
   ]
  },
  {
   "cell_type": "markdown",
   "id": "24294b71-86d9-44d6-9035-be05e8347460",
   "metadata": {},
   "source": [
    "## Displaying input images"
   ]
  },
  {
   "cell_type": "code",
   "execution_count": 6,
   "id": "e54e2e78-179f-440a-9248-150cfaaa13fa",
   "metadata": {},
   "outputs": [],
   "source": [
    "image_number = 10\n",
    "sample = X_train[image_number] "
   ]
  },
  {
   "cell_type": "code",
   "execution_count": 7,
   "id": "bec16638-7b2c-4c0f-a6eb-ac001373a284",
   "metadata": {},
   "outputs": [
    {
     "data": {
      "image/png": "[encoded data removed]",
      "text/plain": [
       "<Figure size 640x480 with 1 Axes>"
      ]
     },
     "metadata": {},
     "output_type": "display_data"
    }
   ],
   "source": [
    "import matplotlib.pyplot as plt\n",
    "\n",
    "plt.imshow(sample, cmap = \"gray\")\n",
    "plt.show()"
   ]
  },
  {
   "cell_type": "code",
   "execution_count": 8,
   "id": "93c7b1dc-9478-4a30-b90d-4038fc33d7bb",
   "metadata": {},
   "outputs": [
    {
     "name": "stdout",
     "output_type": "stream",
     "text": [
      "3\n"
     ]
    }
   ],
   "source": [
    "print(y_train[image_number])"
   ]
  },
  {
   "cell_type": "markdown",
   "id": "0adc3aed-745a-4227-b603-9e344aa8e81f",
   "metadata": {},
   "source": [
    "<h2 style=\"color:green\"/>IMDB Dataset</h2>"
   ]
  },
  {
   "cell_type": "markdown",
   "id": "372d9d98-d2d8-4de0-805d-64a85d6994a2",
   "metadata": {},
   "source": [
    "### --> Set of 50,000 highly polarized reviews from the Internet Movie Database.\n",
    "### --> It is a balanced dataset set (50% positive reviews and 50% negative reviews.\n",
    "### --> Train-Test split ratio = 50% - 50%.\n",
    "### --> Revies are encoded as vectors (Embeddengs)."
   ]
  },
  {
   "cell_type": "code",
   "execution_count": 9,
   "id": "afc4979a-1f5e-4a73-a483-8a2e8b2e0fe7",
   "metadata": {},
   "outputs": [],
   "source": [
    "from keras.datasets import imdb"
   ]
  },
  {
   "cell_type": "code",
   "execution_count": 10,
   "id": "3435e999-7bef-4042-87d4-06f5f3b18100",
   "metadata": {},
   "outputs": [],
   "source": [
    "(X_train, y_train), (X_test, y_test) = imdb.load_data()"
   ]
  },
  {
   "cell_type": "code",
   "execution_count": 11,
   "id": "3f974ca4-d602-47f0-ba63-00671f4565ba",
   "metadata": {},
   "outputs": [
    {
     "name": "stdout",
     "output_type": "stream",
     "text": [
      "Data Types:\n",
      "<class 'list'>\n",
      "<class 'numpy.ndarray'>\n"
     ]
    }
   ],
   "source": [
    "print(\"Data Types:\")\n",
    "print(type(X_train))\n",
    "print(type(y_train))"
   ]
  },
  {
   "cell_type": "code",
   "execution_count": 12,
   "id": "f668f3a6-4c34-4dc6-b26e-f257cc0568f7",
   "metadata": {},
   "outputs": [
    {
     "name": "stdout",
     "output_type": "stream",
     "text": [
      "Lengths:\n",
      "25000\n",
      "25000\n"
     ]
    }
   ],
   "source": [
    "print(\"Lengths:\")\n",
    "print(len(X_train))\n",
    "print(len(X_test))"
   ]
  },
  {
   "cell_type": "code",
   "execution_count": 13,
   "id": "27e64eff-5389-4ab6-82db-e5d9e501bb1f",
   "metadata": {},
   "outputs": [
    {
     "name": "stdout",
     "output_type": "stream",
     "text": [
      "218\n",
      "189\n"
     ]
    }
   ],
   "source": [
    "# Note that the varying size of reviews.\n",
    "print(len(X_train[0]))\n",
    "print(len(X_train[1]))"
   ]
  },
  {
   "cell_type": "code",
   "execution_count": 14,
   "id": "6f13068a-e956-4f47-afdc-3d4a8c702d6d",
   "metadata": {},
   "outputs": [
    {
     "name": "stdout",
     "output_type": "stream",
     "text": [
      "[1, 14, 22, 16, 43, 530, 973, 1622, 1385, 65, 458, 4468, 66, 3941, 4, 173, 36, 256, 5, 25, 100, 43, 838, 112, 50, 670, 22665, 9, 35, 480, 284, 5, 150, 4, 172, 112, 167, 21631, 336, 385, 39, 4, 172, 4536, 1111, 17, 546, 38, 13, 447, 4, 192, 50, 16, 6, 147, 2025, 19, 14, 22, 4, 1920, 4613, 469, 4, 22, 71, 87, 12, 16, 43, 530, 38, 76, 15, 13, 1247, 4, 22, 17, 515, 17, 12, 16, 626, 18, 19193, 5, 62, 386, 12, 8, 316, 8, 106, 5, 4, 2223, 5244, 16, 480, 66, 3785, 33, 4, 130, 12, 16, 38, 619, 5, 25, 124, 51, 36, 135, 48, 25, 1415, 33, 6, 22, 12, 215, 28, 77, 52, 5, 14, 407, 16, 82, 10311, 8, 4, 107, 117, 5952, 15, 256, 4, 31050, 7, 3766, 5, 723, 36, 71, 43, 530, 476, 26, 400, 317, 46, 7, 4, 12118, 1029, 13, 104, 88, 4, 381, 15, 297, 98, 32, 2071, 56, 26, 141, 6, 194, 7486, 18, 4, 226, 22, 21, 134, 476, 26, 480, 5, 144, 30, 5535, 18, 51, 36, 28, 224, 92, 25, 104, 4, 226, 65, 16, 38, 1334, 88, 12, 16, 283, 5, 16, 4472, 113, 103, 32, 15, 16, 5345, 19, 178, 32]\n",
      "1\n"
     ]
    }
   ],
   "source": [
    "# Review and its ground truth\n",
    "print(X_train[0])\n",
    "print(y_train[0])"
   ]
  },
  {
   "cell_type": "code",
   "execution_count": 15,
   "id": "7db984b7-2912-43da-9d38-5d4b4b43a9ca",
   "metadata": {},
   "outputs": [],
   "source": [
    "# Decoding reviws\n",
    "word_index = imdb.get_word_index()\n",
    "index_word = dict([(value, key) for (key, value) in word_index.items()])\n",
    "def decode_review(review):\n",
    "    words = [index_word.get(i-3, '')  for i in review] ##indexx 0, 1, 2 are reserved\n",
    "    print(' '.join(words))   "
   ]
  },
  {
   "cell_type": "code",
   "execution_count": 16,
   "id": "1bc4f078-b118-478d-b4d6-6634a98ade1e",
   "metadata": {},
   "outputs": [
    {
     "name": "stdout",
     "output_type": "stream",
     "text": [
      " this film was just brilliant casting location scenery story direction everyone's really suited the part they played and you could just imagine being there robert redford's is an amazing actor and now the same being director norman's father came from the same scottish island as myself so i loved the fact there was a real connection with this film the witty remarks throughout the film were great it was just brilliant so much that i bought the film as soon as it was released for retail and would recommend it to everyone to watch and the fly fishing was amazing really cried at the end it was so sad and you know what they say if you cry at a film it must have been good and this definitely was also congratulations to the two little boy's that played the part's of norman and paul they were just brilliant children are often left out of the praising list i think because the stars that play them all grown up are such a big profile for the whole film but these children are amazing and should be praised for what they have done don't you think the whole story was so lovely because it was true and was someone's life after all that was shared with us all\n",
      "None\n",
      "1\n"
     ]
    }
   ],
   "source": [
    "print(decode_review(X_train[0]))\n",
    "print(y_train[0])"
   ]
  },
  {
   "cell_type": "code",
   "execution_count": 17,
   "id": "d0c1b9ca-8eeb-4bc2-baa3-8b4905cf2f41",
   "metadata": {},
   "outputs": [
    {
     "name": "stdout",
     "output_type": "stream",
     "text": [
      " i am a great fan of david lynch and have everything that he's made on dvd except for hotel room the 2 hour twin peaks movie so when i found out about this i immediately grabbed it and and what is this it's a bunch of crudely drawn black and white cartoons that are loud and foul mouthed and unfunny maybe i don't know what's good but maybe this is just a bunch of crap that was foisted on the public under the name of david lynch to make a few bucks too let me make it clear that i didn't care about the foul language part but had to keep adjusting the sound because my neighbors might have all in all this is a highly disappointing release and may well have just been left in the deluxe box set as a curiosity i highly recommend you don't spend your money on this 2 out of 10\n",
      "None\n",
      "0\n"
     ]
    }
   ],
   "source": [
    "print(decode_review(X_train[100]))\n",
    "print(y_train[100])"
   ]
  },
  {
   "cell_type": "markdown",
   "id": "08bc7211",
   "metadata": {},
   "source": [
    "<h2 style=\"color:green\"/>Boston Housing Price dataset</h2>"
   ]
  },
  {
   "cell_type": "markdown",
   "id": "d2361f39",
   "metadata": {},
   "source": [
    "### --> 506 samples (404 training samples & 102 test samples).\n",
    "\n",
    "### --> Data contains information about the suburb in the mid 1970's, such as Crime rate, the local property tax rate, and so on with house price in thousands of dollars.\n",
    "\n",
    "### --> All 13 input features and the target also numeric.\n",
    "\n",
    "\n",
    "\n",
    "\n",
    "\n"
   ]
  },
  {
   "cell_type": "code",
   "execution_count": 1,
   "id": "8cc17a03",
   "metadata": {},
   "outputs": [],
   "source": [
    "from keras.datasets import boston_housing"
   ]
  },
  {
   "cell_type": "code",
   "execution_count": 4,
   "id": "2dcd2bab",
   "metadata": {},
   "outputs": [],
   "source": [
    "(X_train, y_train), (X_test, y_test) = boston_housing.load_data()"
   ]
  },
  {
   "cell_type": "code",
   "execution_count": 8,
   "id": "1376484e-7b2b-4e2c-955b-4663270e3d12",
   "metadata": {},
   "outputs": [
    {
     "name": "stdout",
     "output_type": "stream",
     "text": [
      "***** Dataset types *****\n",
      "<class 'numpy.ndarray'>\n",
      "<class 'numpy.ndarray'>\n",
      "<class 'numpy.ndarray'>\n",
      "<class 'numpy.ndarray'>\n"
     ]
    }
   ],
   "source": [
    "print(\"***** Dataset types *****\")\n",
    "print(type(X_train))\n",
    "print(type(y_train))\n",
    "print(type(X_test))\n",
    "print(type(y_test))"
   ]
  },
  {
   "cell_type": "code",
   "execution_count": 5,
   "id": "047f5c03-92f9-4bb0-b662-1fecd44ccefe",
   "metadata": {},
   "outputs": [
    {
     "name": "stdout",
     "output_type": "stream",
     "text": [
      "***** Dataset shapes *****\n",
      "(404, 13)\n",
      "(404,)\n",
      "(102, 13)\n",
      "(102,)\n"
     ]
    }
   ],
   "source": [
    "print(\"***** Dataset shapes *****\")\n",
    "print(X_train.shape)\n",
    "print(y_train.shape)\n",
    "print(X_test.shape)\n",
    "print(y_test.shape)"
   ]
  },
  {
   "cell_type": "code",
   "execution_count": 7,
   "id": "c8acc4b8-5c41-4768-a7a3-f52e8480a8ee",
   "metadata": {},
   "outputs": [
    {
     "name": "stdout",
     "output_type": "stream",
     "text": [
      "*** First 5 Training samples with respective targets ***\n",
      "[[1.23247e+00 0.00000e+00 8.14000e+00 0.00000e+00 5.38000e-01 6.14200e+00\n",
      "  9.17000e+01 3.97690e+00 4.00000e+00 3.07000e+02 2.10000e+01 3.96900e+02\n",
      "  1.87200e+01]\n",
      " [2.17700e-02 8.25000e+01 2.03000e+00 0.00000e+00 4.15000e-01 7.61000e+00\n",
      "  1.57000e+01 6.27000e+00 2.00000e+00 3.48000e+02 1.47000e+01 3.95380e+02\n",
      "  3.11000e+00]\n",
      " [4.89822e+00 0.00000e+00 1.81000e+01 0.00000e+00 6.31000e-01 4.97000e+00\n",
      "  1.00000e+02 1.33250e+00 2.40000e+01 6.66000e+02 2.02000e+01 3.75520e+02\n",
      "  3.26000e+00]\n",
      " [3.96100e-02 0.00000e+00 5.19000e+00 0.00000e+00 5.15000e-01 6.03700e+00\n",
      "  3.45000e+01 5.98530e+00 5.00000e+00 2.24000e+02 2.02000e+01 3.96900e+02\n",
      "  8.01000e+00]\n",
      " [3.69311e+00 0.00000e+00 1.81000e+01 0.00000e+00 7.13000e-01 6.37600e+00\n",
      "  8.84000e+01 2.56710e+00 2.40000e+01 6.66000e+02 2.02000e+01 3.91430e+02\n",
      "  1.46500e+01]]\n",
      "[15.2 42.3 50.  21.1 17.7]\n"
     ]
    }
   ],
   "source": [
    "print(\"*** First 5 Training samples with respective targets ***\")\n",
    "print(X_train[0:5])\n",
    "print(y_train[0:5])"
   ]
  },
  {
   "cell_type": "code",
   "execution_count": null,
   "id": "c824948b-f513-4545-acd2-d07981c90749",
   "metadata": {},
   "outputs": [],
   "source": []
  }
 ],
 "metadata": {
  "kernelspec": {
   "display_name": "Python 3 (ipykernel)",
   "language": "python",
   "name": "python3"
  },
  "language_info": {
   "codemirror_mode": {
    "name": "ipython",
    "version": 3
   },
   "file_extension": ".py",
   "mimetype": "text/x-python",
   "name": "python",
   "nbconvert_exporter": "python",
   "pygments_lexer": "ipython3",
   "version": "3.11.5"
  }
 },
 "nbformat": 4,
 "nbformat_minor": 5
}
