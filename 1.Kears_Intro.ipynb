{
 "cells": [
  {
   "cell_type": "markdown",
   "id": "584d3ba2-6a9e-4a5f-9595-bd1e5f9735a2",
   "metadata": {},
   "source": [
    "<h1 style=\"color:red\"/>Categories of Data</h1>"
   ]
  },
  {
   "cell_type": "markdown",
   "id": "103dc4fe-d959-4ba7-9655-ef52c2ce796a",
   "metadata": {},
   "source": [
    "### --> Vector data: 2D tensors of shape (#samples, #features)\n",
    "\n",
    "### --> Time series data or Sequence data: 3D tensors of shape (#samples, #timestamps, #features)\n",
    "\n",
    "### --> Images: 4D tensors of shape (#samples, height, width, #channels) or (#samples, #channels, height, width)\n",
    "\n",
    "### --> Video: 5D tensors of shape (#samples, #frames, height, width, #channels) or (#samples, #frames, #channels, height, width)"
   ]
  },
  {
   "cell_type": "markdown",
   "id": "d6f7a102-3ee6-4488-9416-1a1de91b213c",
   "metadata": {},
   "source": [
    "<h1 style=\"color:red\"/>Exploring Datasets</h1>"
   ]
  },
  {
   "cell_type": "markdown",
   "id": "6e2ed72b-92ce-4514-b5aa-42ecfea61bce",
   "metadata": {},
   "source": [
    "<h2 style=\"color:green\"/>MNIST Dataset</h2>"
   ]
  },
  {
   "cell_type": "code",
   "execution_count": null,
   "id": "b52f77af-7461-4951-9adc-79469fac26fa",
   "metadata": {},
   "outputs": [],
   "source": [
    "from keras.datasets import mnist"
   ]
  },
  {
   "cell_type": "code",
   "execution_count": null,
   "id": "f60ab08a-b997-46a3-8dec-d906a13986cd",
   "metadata": {},
   "outputs": [],
   "source": [
    "(X_train, y_train), (X_test, y_test) = mnist.load_data()"
   ]
  },
  {
   "cell_type": "code",
   "execution_count": null,
   "id": "527bf312-d915-4dba-b2a4-24892d500311",
   "metadata": {},
   "outputs": [],
   "source": [
    "print(\"Number of dimensions:\", X_train.ndim)    "
   ]
  },
  {
   "cell_type": "code",
   "execution_count": null,
   "id": "e3da823f-f82d-4141-8a49-1091b3bac897",
   "metadata": {},
   "outputs": [],
   "source": [
    "print(\"***** Dataset types *****\")\n",
    "print(type(X_train))\n",
    "print(type(y_train))\n",
    "print(type(X_test))\n",
    "print(type(y_test))"
   ]
  },
  {
   "cell_type": "code",
   "execution_count": null,
   "id": "a9fa9772-feb4-4907-a749-0d13b09bd510",
   "metadata": {},
   "outputs": [],
   "source": [
    "print(\"Datasets Shape:\")\n",
    "print(X_train.shape)\n",
    "print(y_train.shape)\n",
    "print(X_test.shape)\n",
    "print(y_test.shape)\n"
   ]
  },
  {
   "cell_type": "code",
   "execution_count": null,
   "id": "485e5550-a60c-4417-b220-1dd2a3c9995e",
   "metadata": {},
   "outputs": [],
   "source": [
    "print(X_train.dtype)"
   ]
  },
  {
   "cell_type": "markdown",
   "id": "b460fb53-e966-45d5-b10b-e868fff095f3",
   "metadata": {},
   "source": [
    "## Observations"
   ]
  },
  {
   "cell_type": "markdown",
   "id": "2b1dcfb2-2835-4616-bfd0-489470b960a6",
   "metadata": {},
   "source": [
    "### We have total 70000 8-bit images.\n",
    "\n",
    "### Training set contains 60000 grayscale images, each of which is of size 28X28 pixels."
   ]
  },
  {
   "cell_type": "markdown",
   "id": "24294b71-86d9-44d6-9035-be05e8347460",
   "metadata": {},
   "source": [
    "## Displaying input images"
   ]
  },
  {
   "cell_type": "code",
   "execution_count": null,
   "id": "e54e2e78-179f-440a-9248-150cfaaa13fa",
   "metadata": {},
   "outputs": [],
   "source": [
    "image_number = 10\n",
    "sample = X_train[image_number] "
   ]
  },
  {
   "cell_type": "code",
   "execution_count": null,
   "id": "bec16638-7b2c-4c0f-a6eb-ac001373a284",
   "metadata": {},
   "outputs": [],
   "source": [
    "import matplotlib.pyplot as plt\n",
    "\n",
    "plt.imshow(sample, cmap = \"gray\")\n",
    "plt.show()"
   ]
  },
  {
   "cell_type": "code",
   "execution_count": null,
   "id": "93c7b1dc-9478-4a30-b90d-4038fc33d7bb",
   "metadata": {},
   "outputs": [],
   "source": [
    "print(y_train[image_number])"
   ]
  },
  {
   "cell_type": "markdown",
   "id": "0adc3aed-745a-4227-b603-9e344aa8e81f",
   "metadata": {},
   "source": [
    "<h2 style=\"color:green\"/>IMDB Dataset</h2>"
   ]
  },
  {
   "cell_type": "markdown",
   "id": "372d9d98-d2d8-4de0-805d-64a85d6994a2",
   "metadata": {},
   "source": [
    "### --> Set of 50,000 highly polarized reviews from the Internet Movie Database.\n",
    "### --> It is a balanced dataset set (50% positive reviews and 50% negative reviews.\n",
    "### --> Train-Test split ratio = 50% - 50%.\n",
    "### --> Revies are encoded as vectors (Embeddengs)."
   ]
  },
  {
   "cell_type": "code",
   "execution_count": null,
   "id": "afc4979a-1f5e-4a73-a483-8a2e8b2e0fe7",
   "metadata": {},
   "outputs": [],
   "source": [
    "from keras.datasets import imdb"
   ]
  },
  {
   "cell_type": "code",
   "execution_count": null,
   "id": "3435e999-7bef-4042-87d4-06f5f3b18100",
   "metadata": {},
   "outputs": [],
   "source": [
    "(X_train, y_train), (X_test, y_test) = imdb.load_data()"
   ]
  },
  {
   "cell_type": "code",
   "execution_count": null,
   "id": "3f974ca4-d602-47f0-ba63-00671f4565ba",
   "metadata": {},
   "outputs": [],
   "source": [
    "print(\"Data Types:\")\n",
    "print(type(X_train))\n",
    "print(type(y_train))"
   ]
  },
  {
   "cell_type": "code",
   "execution_count": null,
   "id": "f668f3a6-4c34-4dc6-b26e-f257cc0568f7",
   "metadata": {},
   "outputs": [],
   "source": [
    "print(\"Lengths:\")\n",
    "print(len(X_train))\n",
    "print(len(X_test))"
   ]
  },
  {
   "cell_type": "code",
   "execution_count": null,
   "id": "27e64eff-5389-4ab6-82db-e5d9e501bb1f",
   "metadata": {},
   "outputs": [],
   "source": [
    "# Note that the varying size of reviews.\n",
    "print(len(X_train[0]))\n",
    "print(len(X_train[1]))"
   ]
  },
  {
   "cell_type": "code",
   "execution_count": null,
   "id": "6f13068a-e956-4f47-afdc-3d4a8c702d6d",
   "metadata": {},
   "outputs": [],
   "source": [
    "# Review and its ground truth\n",
    "print(X_train[0])\n",
    "print(y_train[0])"
   ]
  },
  {
   "cell_type": "code",
   "execution_count": null,
   "id": "7db984b7-2912-43da-9d38-5d4b4b43a9ca",
   "metadata": {},
   "outputs": [],
   "source": [
    "# Decoding reviws\n",
    "word_index = imdb.get_word_index()\n",
    "index_word = dict([(value, key) for (key, value) in word_index.items()])\n",
    "def decode_review(review):\n",
    "    words = [index_word.get(i-3, '')  for i in review] ##indexx 0, 1, 2 are reserved\n",
    "    print(' '.join(words))   "
   ]
  },
  {
   "cell_type": "code",
   "execution_count": null,
   "id": "1bc4f078-b118-478d-b4d6-6634a98ade1e",
   "metadata": {},
   "outputs": [],
   "source": [
    "print(decode_review(X_train[0]))\n",
    "print(y_train[0])"
   ]
  },
  {
   "cell_type": "code",
   "execution_count": null,
   "id": "d0c1b9ca-8eeb-4bc2-baa3-8b4905cf2f41",
   "metadata": {},
   "outputs": [],
   "source": [
    "print(decode_review(X_train[100]))\n",
    "print(y_train[100])"
   ]
  },
  {
   "cell_type": "markdown",
   "id": "08bc7211",
   "metadata": {},
   "source": [
    "<h2 style=\"color:green\"/>Boston Housing Price dataset</h2>"
   ]
  },
  {
   "cell_type": "markdown",
   "id": "d2361f39",
   "metadata": {},
   "source": [
    "### --> 506 samples (404 training samples & 102 test samples).\n",
    "\n",
    "### --> Data contains information about the suburb in the mid 1970's, such as Crime rate, the local property tax rate, and so on with house price in thousands of dollars.\n",
    "\n",
    "### --> All 13 input features and the target also numeric.\n",
    "\n",
    "\n",
    "\n",
    "\n",
    "\n"
   ]
  },
  {
   "cell_type": "code",
   "execution_count": null,
   "id": "8cc17a03",
   "metadata": {},
   "outputs": [],
   "source": [
    "from keras.datasets import boston_housing"
   ]
  },
  {
   "cell_type": "code",
   "execution_count": null,
   "id": "2dcd2bab",
   "metadata": {},
   "outputs": [],
   "source": [
    "(X_train, y_train), (X_test, y_test) = boston_housing.load_data()"
   ]
  },
  {
   "cell_type": "code",
   "execution_count": null,
   "id": "1376484e-7b2b-4e2c-955b-4663270e3d12",
   "metadata": {},
   "outputs": [],
   "source": [
    "print(\"***** Dataset types *****\")\n",
    "print(type(X_train))\n",
    "print(type(y_train))\n",
    "print(type(X_test))\n",
    "print(type(y_test))"
   ]
  },
  {
   "cell_type": "code",
   "execution_count": null,
   "id": "047f5c03-92f9-4bb0-b662-1fecd44ccefe",
   "metadata": {},
   "outputs": [],
   "source": [
    "print(\"***** Dataset shapes *****\")\n",
    "print(X_train.shape)\n",
    "print(y_train.shape)\n",
    "print(X_test.shape)\n",
    "print(y_test.shape)"
   ]
  },
  {
   "cell_type": "code",
   "execution_count": null,
   "id": "c8acc4b8-5c41-4768-a7a3-f52e8480a8ee",
   "metadata": {},
   "outputs": [],
   "source": [
    "print(\"*** First 5 Training samples with respective targets ***\")\n",
    "print(X_train[0:5])\n",
    "print(y_train[0:5])"
   ]
  },
  {
   "cell_type": "code",
   "execution_count": null,
   "id": "c824948b-f513-4545-acd2-d07981c90749",
   "metadata": {},
   "outputs": [],
   "source": []
  }
 ],
 "metadata": {
  "kernelspec": {
   "display_name": "Python 3 (ipykernel)",
   "language": "python",
   "name": "python3"
  },
  "language_info": {
   "codemirror_mode": {
    "name": "ipython",
    "version": 3
   },
   "file_extension": ".py",
   "mimetype": "text/x-python",
   "name": "python",
   "nbconvert_exporter": "python",
   "pygments_lexer": "ipython3",
   "version": "3.11.5"
  }
 },
 "nbformat": 4,
 "nbformat_minor": 5
}
