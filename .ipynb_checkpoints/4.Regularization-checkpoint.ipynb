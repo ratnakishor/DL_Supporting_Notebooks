{
 "cells": [
  {
   "cell_type": "markdown",
   "id": "db43ba34-af89-43d0-b236-f89f97480321",
   "metadata": {},
   "source": [
    "## Regularization\n",
    "\n",
    "### Process of fighting with overfitting\n",
    "\n",
    "### Common Regularization methods\n",
    "\n",
    "#### -> Reducing network size\n",
    "#### -> Adding weight regularization - L1 and L2\n",
    "#### -> Early stopping\n",
    "#### -> Dropout\n"
   ]
  },
  {
   "cell_type": "code",
   "execution_count": null,
   "id": "495d8f3e-96c6-4b22-a968-043f1b1753a4",
   "metadata": {},
   "outputs": [],
   "source": [
    "import numpy as np\n",
    "from keras.datasets import imdb\n",
    "from keras.models import Sequential\n",
    "from keras.layers import Input, Dense\n",
    "from keras.optimizers import RMSprop\n",
    "import matplotlib.pyplot as plt\n",
    "from keras.models import load_model\n",
    "from keras.regularizers import l1, l2, l1_l2"
   ]
  },
  {
   "cell_type": "markdown",
   "id": "1827141a-9fa8-4532-a712-8c56d7fc7778",
   "metadata": {},
   "source": [
    "## Data Preparation"
   ]
  },
  {
   "cell_type": "code",
   "execution_count": null,
   "id": "64f0536e-c46b-484e-bf9f-4dc17d1a0f41",
   "metadata": {},
   "outputs": [],
   "source": [
    "(X_train, Y_train), (X_test, Y_test) = imdb.load_data(num_words=10000, seed = 19) \n",
    "# Keeps 10000 most frequently occuring words in the trainong data\n",
    "\n",
    "# Encoding the integer sequences into a binary matrix\n",
    "def vectorize_sequences(sequences, dimension=10000):\n",
    "    results = np.zeros((len(sequences), dimension))\n",
    "    for i, sequence in enumerate(sequences):\n",
    "        results[i, sequence] = 1.\n",
    "    return results\n",
    "\n",
    "x_train = vectorize_sequences(X_train)\n",
    "x_test = vectorize_sequences(X_test)\n",
    "\n",
    "# vectorize labels\n",
    "y_train = np.asarray(Y_train).astype('float32')\n",
    "y_test = np.asarray(Y_test).astype('float32')\n",
    "\n",
    "x_val = x_train[:10000, :]\n",
    "x_train = x_train[10000: ,  :]\n",
    "y_val = y_train[:10000]\n",
    "y_train = y_train[10000:]\n",
    "\n",
    "\n"
   ]
  },
  {
   "cell_type": "code",
   "execution_count": null,
   "id": "3ae7c04f-cf90-4976-888f-ee89c7dd117e",
   "metadata": {},
   "outputs": [],
   "source": []
  },
  {
   "cell_type": "markdown",
   "id": "69c0f0dd-85f0-4ff0-9797-8d8c2b38e23d",
   "metadata": {},
   "source": [
    "##  IMDB Movie Review Classification with L1 Regularization"
   ]
  },
  {
   "cell_type": "code",
   "execution_count": null,
   "id": "58e02bd9-eebc-48af-a0f3-d24164de3f9b",
   "metadata": {},
   "outputs": [],
   "source": [
    "modell2 = Sequential()\n",
    "modell2.add(Input((10000,)))\n",
    "modell2.add(Dense(16, kernel_regularizer=l1(0.001), activation='relu'))\n",
    "modell2.add(Dense(16, kernel_regularizer=l1(0.001), activation='relu'))\n",
    "modell2.add(Dense(1, activation='sigmoid'))\n",
    "\n",
    "print(modell2.summary())"
   ]
  },
  {
   "cell_type": "code",
   "execution_count": null,
   "id": "1cec4e11-b37b-4b29-be1d-e23f759d2275",
   "metadata": {},
   "outputs": [],
   "source": [
    "modell2.compile(optimizer=RMSprop(learning_rate=0.001), loss=\"binary_crossentropy\", metrics=[\"accuracy\"])"
   ]
  },
  {
   "cell_type": "code",
   "execution_count": null,
   "id": "239339f0-9b05-47d2-9f0d-30d3095abc79",
   "metadata": {},
   "outputs": [],
   "source": [
    "epochs = 20\n",
    "history = modell2.fit(x_train, y_train,  epochs=epochs, batch_size=512, validation_data=(x_val, y_val))"
   ]
  },
  {
   "cell_type": "code",
   "execution_count": null,
   "id": "d9276db6-c5d8-4d56-a9a6-1bb62256c711",
   "metadata": {},
   "outputs": [],
   "source": [
    "hist = history.history\n",
    "plt.plot(range(1, epochs+1), hist[\"accuracy\"],marker=\"*\")\n",
    "plt.plot(range(1, epochs+1), hist[\"val_accuracy\"], marker=\"^\")\n",
    "plt.legend([\"Train\", \"validation\"])\n",
    "plt.xlabel(\"epoch\")\n",
    "plt.ylabel(\"Accuracy\")\n",
    "plt.show()"
   ]
  },
  {
   "cell_type": "markdown",
   "id": "3f842b63-982b-4d54-9457-ebf49ce9f84f",
   "metadata": {},
   "source": [
    "## IMDB Movie Review Classification with L1 Regularization"
   ]
  },
  {
   "cell_type": "markdown",
   "id": "2067fa65-9809-4c99-8464-a38a2c28670b",
   "metadata": {},
   "source": [
    "### Stopping training when validation loss is no longer improving can be achieved using a Keras callback.\n",
    "\n",
    "### A callback is an object that is passed to the model in the call to fit.\n",
    "\n",
    "### Usage: **keras.callbacks.EarlyStopping(monitor, mode, patient)**\n",
    "\n",
    "#### --> Stops the training when monitored metric with specified mode has stopped improving for ore than specified number of patience."
   ]
  },
  {
   "cell_type": "code",
   "execution_count": null,
   "id": "5634a46d-3740-4f30-b2ed-ea307107e747",
   "metadata": {},
   "outputs": [],
   "source": [
    "from keras.callbacks import EarlyStopping"
   ]
  },
  {
   "cell_type": "code",
   "execution_count": null,
   "id": "45d34983-820a-4d78-8097-1e142624d651",
   "metadata": {},
   "outputs": [],
   "source": [
    "modele = Sequential()\n",
    "modele.add(Input((10000,)))\n",
    "modele.add(Dense(16, kernel_regularizer=l1(0.001), activation='relu'))\n",
    "modele.add(Dense(16, kernel_regularizer=l1(0.001), activation='relu'))\n",
    "modele.add(Dense(1, activation='sigmoid'))\n",
    "\n",
    "print(modele.summary())"
   ]
  },
  {
   "cell_type": "code",
   "execution_count": null,
   "id": "8bbd2e56-4114-4a98-8205-653eb8839ce3",
   "metadata": {},
   "outputs": [],
   "source": [
    "modele.compile(optimizer=RMSprop(learning_rate=0.001), loss=\"binary_crossentropy\", metrics=[\"accuracy\"])"
   ]
  },
  {
   "cell_type": "code",
   "execution_count": null,
   "id": "988901f4-6930-45df-8503-f6f05bc8bdf2",
   "metadata": {},
   "outputs": [],
   "source": [
    "history = modele.fit(x_train, \n",
    "                      y_train,\n",
    "                      epochs=epochs, \n",
    "                      batch_size=512, \n",
    "                      validation_data=(x_val, y_val),\n",
    "                     callbacks=[EarlyStopping(monitor=\"val_accuracy\", mode = \"max\", patience=1, restore_best_weights=True)])"
   ]
  },
  {
   "cell_type": "code",
   "execution_count": null,
   "id": "50ac0dc3-9153-4d78-9463-88a43a485f68",
   "metadata": {},
   "outputs": [],
   "source": [
    "hist = history.history\n",
    "epoch = len(hist[\"accuracy\"])\n",
    "plt.plot(range(1, epoch+1), hist[\"accuracy\"],marker=\"*\")\n",
    "plt.plot(range(1, epoch+1), hist[\"val_accuracy\"], marker=\"^\")\n",
    "plt.legend([\"Train\", \"validation\"])\n",
    "plt.xlabel(\"epoch\")\n",
    "plt.ylabel(\"Accuracy\")\n",
    "plt.show()"
   ]
  },
  {
   "cell_type": "markdown",
   "id": "05f79956-6ad3-4693-80b8-27d197885109",
   "metadata": {},
   "source": [
    "## Dropout"
   ]
  },
  {
   "cell_type": "code",
   "execution_count": null,
   "id": "7668c98d-7254-4f49-be4d-399ace05d405",
   "metadata": {},
   "outputs": [],
   "source": [
    "from keras.layers import Dropout"
   ]
  },
  {
   "cell_type": "code",
   "execution_count": null,
   "id": "c394c2fb-d74f-4898-802b-b5c30d5fa5d4",
   "metadata": {},
   "outputs": [],
   "source": [
    "modeld = Sequential()\n",
    "modeld.add(Input((10000,)))\n",
    "modeld.add(Dense(16, kernel_regularizer=l1(0.001), activation='relu'))\n",
    "modeld.add(Dropout(0.5))\n",
    "modeld.add(Dense(16, kernel_regularizer=l1(0.001), activation='relu'))\n",
    "modeld.add(Dropout(0.5))\n",
    "modeld.add(Dense(1, activation='sigmoid'))\n",
    "\n",
    "print(modeld.summary())"
   ]
  },
  {
   "cell_type": "code",
   "execution_count": null,
   "id": "d6a5bdca-bf21-49cb-abd0-d415db435e22",
   "metadata": {},
   "outputs": [],
   "source": [
    "modeld.compile(optimizer=RMSprop(learning_rate=0.001), loss=\"binary_crossentropy\", metrics=[\"accuracy\"])"
   ]
  },
  {
   "cell_type": "code",
   "execution_count": null,
   "id": "f98d161c-bf97-4dbd-9cf3-bf1622d022c0",
   "metadata": {},
   "outputs": [],
   "source": [
    "history = modeld.fit(x_train, y_train,  epochs=epochs, batch_size=512, validation_data=(x_val, y_val))"
   ]
  },
  {
   "cell_type": "code",
   "execution_count": null,
   "id": "fb568b71-085a-4273-a48d-38ca4ede1fdb",
   "metadata": {},
   "outputs": [],
   "source": [
    "hist = history.history\n",
    "plt.plot(range(1, epochs+1), hist[\"accuracy\"],marker=\"*\")\n",
    "plt.plot(range(1, epochs+1), hist[\"val_accuracy\"], marker=\"^\")\n",
    "plt.legend([\"Train\", \"validation\"])\n",
    "plt.xlabel(\"epoch\")\n",
    "plt.ylabel(\"Accuracy\")\n",
    "plt.show()"
   ]
  },
  {
   "cell_type": "code",
   "execution_count": null,
   "id": "c3ca30b7-8c10-4f54-9d71-569225e6367c",
   "metadata": {},
   "outputs": [],
   "source": []
  }
 ],
 "metadata": {
  "kernelspec": {
   "display_name": "Python 3 (ipykernel)",
   "language": "python",
   "name": "python3"
  },
  "language_info": {
   "codemirror_mode": {
    "name": "ipython",
    "version": 3
   },
   "file_extension": ".py",
   "mimetype": "text/x-python",
   "name": "python",
   "nbconvert_exporter": "python",
   "pygments_lexer": "ipython3",
   "version": "3.11.5"
  }
 },
 "nbformat": 4,
 "nbformat_minor": 5
}
