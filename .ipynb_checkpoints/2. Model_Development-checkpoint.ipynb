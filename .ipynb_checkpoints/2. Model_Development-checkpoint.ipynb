{
 "cells": [
  {
   "cell_type": "markdown",
   "id": "a0a936ec-c685-4046-a208-f967fe8d0d01",
   "metadata": {},
   "source": [
    "# Keras Workflow to tarin a model"
   ]
  },
  {
   "cell_type": "markdown",
   "id": "488a2949-7034-468c-853c-18a9bdb7db50",
   "metadata": {},
   "source": [
    "## Steps:"
   ]
  },
  {
   "cell_type": "markdown",
   "id": "53c5726e-fae3-4e11-84bd-b09d9792faca",
   "metadata": {
    "jp-MarkdownHeadingCollapsed": true
   },
   "source": [
    "### 1. Define your training data: input tensors and target tensors.\n",
    "### 2. Define a network of layers (or model ) that maps your inputs to your targets.\n",
    "### 3. Configure the learning process by choosing a loss function, an optimizer, and some metrics to monitor. \n",
    "### 4. Iterate on your training data by calling the fit() method of your model.\n",
    "### 5. Evaluate the model"
   ]
  },
  {
   "cell_type": "markdown",
   "id": "b7695004-f83a-4b46-a091-a76d44b4f922",
   "metadata": {},
   "source": [
    "## Example 1: Classifiaction of MNIST dataset"
   ]
  },
  {
   "cell_type": "markdown",
   "id": "27ac90a3-3aab-4296-b1a4-f030cd0a19a3",
   "metadata": {},
   "source": [
    "### Defining training data"
   ]
  },
  {
   "cell_type": "code",
   "execution_count": null,
   "id": "b03504df-db2c-411b-ae33-0624526c42d0",
   "metadata": {},
   "outputs": [],
   "source": [
    "from keras.datasets import mnist"
   ]
  },
  {
   "cell_type": "code",
   "execution_count": null,
   "id": "300cc76b-4cdb-4fb3-ad9c-4d911ed29b8b",
   "metadata": {},
   "outputs": [],
   "source": [
    "(X_train, y_train), (X_test, y_test) = mnist.load_data()\n",
    "print(\"Datasets Shape:\")\n",
    "print(X_train.shape)\n",
    "print(y_train.shape)\n",
    "print(X_test.shape)\n",
    "print(y_test.shape)"
   ]
  },
  {
   "cell_type": "code",
   "execution_count": null,
   "id": "1c525eb0-3597-44de-983e-b3cfcd729691",
   "metadata": {},
   "outputs": [],
   "source": [
    "X_train = X_train.reshape((60000, 28*28))\n",
    "X_train = X_train.astype(\"float32\")/255\n",
    "\n",
    "X_test = X_test.reshape((10000, 28*28))\n",
    "X_test = X_test.astype(\"float32\")/255"
   ]
  },
  {
   "cell_type": "code",
   "execution_count": null,
   "id": "7a79da5e-c36e-4a9e-882e-350315cd6090",
   "metadata": {},
   "outputs": [],
   "source": [
    "print(X_train.shape)\n",
    "print(X_train[0].shape)"
   ]
  },
  {
   "cell_type": "code",
   "execution_count": null,
   "id": "1508b8df-0a95-4187-9cb5-61a1256f5774",
   "metadata": {},
   "outputs": [],
   "source": [
    "# One-hot encoding the labels\n",
    "from keras.utils import to_categorical\n",
    "\n",
    "y_train = to_categorical(y_train)\n",
    "y_test = to_categorical(y_test)\n",
    "\n",
    "print(y_train.shape)"
   ]
  },
  {
   "cell_type": "markdown",
   "id": "12d0a0af-db3e-42e8-af2a-fef0c72ddbef",
   "metadata": {},
   "source": [
    "### Defining the model"
   ]
  },
  {
   "cell_type": "code",
   "execution_count": null,
   "id": "a3ad9528-7efc-422c-b01a-b944fea7a754",
   "metadata": {},
   "outputs": [],
   "source": [
    "from keras.models import Sequential\n",
    "from keras.layers import  Input, Dense"
   ]
  },
  {
   "cell_type": "code",
   "execution_count": null,
   "id": "666f67ef-a856-4f6a-b3e6-89de33441d00",
   "metadata": {},
   "outputs": [],
   "source": [
    "model = Sequential()\n",
    "model.add(Input((784, )))\n",
    "model.add(Dense(512, activation = \"relu\"))\n",
    "model.add(Dense(10, activation = \"softmax\"))\n",
    "\n",
    "print(model.summary())"
   ]
  },
  {
   "cell_type": "markdown",
   "id": "51b26801-738d-431e-8c4e-98dfe6d0501d",
   "metadata": {},
   "source": [
    "### Configure (Compile) the model"
   ]
  },
  {
   "cell_type": "code",
   "execution_count": null,
   "id": "dd2248e0-8307-4f3d-a730-1411d043ac40",
   "metadata": {},
   "outputs": [],
   "source": [
    "model.compile(optimizer = \"adam\", loss = \"categorical_crossentropy\", metrics = [\"accuracy\"])"
   ]
  },
  {
   "cell_type": "markdown",
   "id": "8c0d4d11-86d2-47b7-8988-d8d20bd347dd",
   "metadata": {},
   "source": [
    "### Train the model"
   ]
  },
  {
   "cell_type": "code",
   "execution_count": null,
   "id": "61529666-c417-4208-befc-2ebe751c0d87",
   "metadata": {},
   "outputs": [],
   "source": [
    "model.fit(X_train, y_train, epochs = 5, batch_size = 128)"
   ]
  },
  {
   "cell_type": "markdown",
   "id": "d082832d-24bd-4767-8091-d3f37c5b5aac",
   "metadata": {},
   "source": [
    "### Model Evaluation"
   ]
  },
  {
   "cell_type": "code",
   "execution_count": null,
   "id": "46503ff2-a30d-405a-93c9-62475db3f1b2",
   "metadata": {},
   "outputs": [],
   "source": [
    "loss, accuracy = model.evaluate(X_test, y_test)\n",
    "print(accuracy)"
   ]
  },
  {
   "cell_type": "markdown",
   "id": "f995519d-454f-411e-9c1d-da1a472ae84f",
   "metadata": {},
   "source": [
    "### Prediction"
   ]
  },
  {
   "cell_type": "code",
   "execution_count": null,
   "id": "e5c53dab-655c-442b-b882-a803d9f8f1e7",
   "metadata": {},
   "outputs": [],
   "source": [
    "import numpy as np\n",
    "import matplotlib.pyplot as plt\n",
    "\n",
    "input = X_test[10].reshape(28, 28)\n",
    "plt.imshow(input, cmap=\"gray\")\n",
    "plt.show()\n",
    "result = model.predict(input.reshape(1, 28*28))\n",
    "print(np.argmax(result))\n"
   ]
  },
  {
   "cell_type": "markdown",
   "id": "a670baf3-7e33-4f0e-bea1-f0435556f207",
   "metadata": {},
   "source": [
    "## Example 2: Prediction of House Price in Boston - Regression task"
   ]
  },
  {
   "cell_type": "code",
   "execution_count": null,
   "id": "508bb6ee-ca78-4e38-a555-25a18171cb03",
   "metadata": {},
   "outputs": [],
   "source": [
    "from keras.datasets import boston_housing"
   ]
  },
  {
   "cell_type": "code",
   "execution_count": null,
   "id": "f9401658-519f-49d1-8451-30ac09bfd588",
   "metadata": {},
   "outputs": [],
   "source": [
    "(X_train, y_train), (X_test, y_test) = boston_housing.load_data()"
   ]
  },
  {
   "cell_type": "code",
   "execution_count": null,
   "id": "8eb3fc28-82c3-4cca-bd94-1f7e24ec90e8",
   "metadata": {},
   "outputs": [],
   "source": [
    "print(X_train[0:5])\n",
    "print(y_train[0:5])"
   ]
  },
  {
   "cell_type": "code",
   "execution_count": null,
   "id": "3a075fad-ddb8-4293-9c86-9ccf19d0815d",
   "metadata": {},
   "outputs": [],
   "source": [
    "# Data Normalization (Standardization) as the features are having different ranges"
   ]
  },
  {
   "cell_type": "code",
   "execution_count": null,
   "id": "7f47c065-3c89-4867-8578-9fa012ca88b3",
   "metadata": {},
   "outputs": [],
   "source": [
    "from sklearn.preprocessing import StandardScaler\n",
    "\n",
    "scalar = StandardScaler()\n",
    "X_train_n = scalar.fit_transform(X_train)\n",
    "X_test_n = scalar.transform(X_test)"
   ]
  },
  {
   "cell_type": "code",
   "execution_count": null,
   "id": "a6af0ec5-319a-49c9-9447-1ad2262bc4c7",
   "metadata": {},
   "outputs": [],
   "source": [
    "import numpy as np\n",
    "feature = X_train_n[:, 0]\n",
    "print(np.mean(feature))\n",
    "print(np.std(feature))"
   ]
  },
  {
   "cell_type": "code",
   "execution_count": null,
   "id": "d213418d-18a3-4691-ab79-92c77c2b9edb",
   "metadata": {},
   "outputs": [],
   "source": [
    "# Building a model"
   ]
  },
  {
   "cell_type": "code",
   "execution_count": null,
   "id": "e2c3cfb2-98e3-4372-a2d4-badb71c49a17",
   "metadata": {},
   "outputs": [],
   "source": [
    "from keras.models import Sequential\n",
    "from keras.layers import Input, Dense\n",
    "\n",
    "model2 = Sequential()\n",
    "model2.add(Input((X_train.shape[1],)))\n",
    "model2.add(Dense(64, activation=\"relu\"))\n",
    "model2.add(Dense(32, activation=\"relu\"))\n",
    "model2.add(Dense(1)) # Linear layer\n",
    "print(model2.summary())"
   ]
  },
  {
   "cell_type": "code",
   "execution_count": null,
   "id": "d8245c9f-8b10-4332-9241-5a8c1b4adb7b",
   "metadata": {},
   "outputs": [],
   "source": [
    "model2.compile(optimizer = \"rmsprop\", loss = \"mse\", metrics = [\"mae\"])"
   ]
  },
  {
   "cell_type": "code",
   "execution_count": null,
   "id": "6c1f4f3d-c0e4-4c34-b09e-fc622f7a7c34",
   "metadata": {},
   "outputs": [],
   "source": [
    "history = model2.fit(X_train_n, y_train, epochs = 100, batch_size = 1)"
   ]
  },
  {
   "cell_type": "code",
   "execution_count": null,
   "id": "c5c9cbe4-7ae8-4e42-b765-45ca520cd208",
   "metadata": {},
   "outputs": [],
   "source": [
    "hist = history.history\n",
    "mae = hist[\"mae\"]"
   ]
  },
  {
   "cell_type": "code",
   "execution_count": null,
   "id": "b430c0d0-faa1-44c8-9178-34f623bb550b",
   "metadata": {},
   "outputs": [],
   "source": [
    "import matplotlib.pyplot as plt\n",
    "\n",
    "epochs = range(1, 101)\n",
    "plt.plot(epochs, mae)\n",
    "plt.xlabel(\"Epochs\")\n",
    "plt.ylabel(\"MAE\")\n",
    "plt.show()"
   ]
  },
  {
   "cell_type": "code",
   "execution_count": null,
   "id": "3155b84b-e9b7-4fa5-8513-5758f475d710",
   "metadata": {},
   "outputs": [],
   "source": [
    "mse, mae = model2.evaluate(X_test_n, y_test)\n",
    "print(mae)"
   ]
  },
  {
   "cell_type": "code",
   "execution_count": null,
   "id": "a2138a78-1b05-41dc-af4e-a0ad96dd20e3",
   "metadata": {},
   "outputs": [],
   "source": []
  }
 ],
 "metadata": {
  "kernelspec": {
   "display_name": "Python 3 (ipykernel)",
   "language": "python",
   "name": "python3"
  },
  "language_info": {
   "codemirror_mode": {
    "name": "ipython",
    "version": 3
   },
   "file_extension": ".py",
   "mimetype": "text/x-python",
   "name": "python",
   "nbconvert_exporter": "python",
   "pygments_lexer": "ipython3",
   "version": "3.11.5"
  }
 },
 "nbformat": 4,
 "nbformat_minor": 5
}
