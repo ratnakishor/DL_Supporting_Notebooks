{
 "cells": [
  {
   "cell_type": "markdown",
   "id": "69c0f0dd-85f0-4ff0-9797-8d8c2b38e23d",
   "metadata": {},
   "source": [
    "##  IMDB Movie Review Classification without Regularization"
   ]
  },
  {
   "cell_type": "code",
   "execution_count": null,
   "id": "1a803be6-6707-4ce1-9223-e9d86c766e50",
   "metadata": {},
   "outputs": [],
   "source": [
    "import numpy as np\n",
    "from keras.datasets import imdb\n",
    "from keras.models import Sequential\n",
    "from keras.layers import Input, Dense\n",
    "from keras.optimizers import RMSprop\n",
    "import matplotlib.pyplot as plt"
   ]
  },
  {
   "cell_type": "markdown",
   "id": "6629b14e-ece0-42df-8a5e-0b0631c6c35e",
   "metadata": {},
   "source": [
    "## Data Preparation"
   ]
  },
  {
   "cell_type": "code",
   "execution_count": null,
   "id": "9c47f439-b0e2-4077-8014-e1201f5f0cc9",
   "metadata": {},
   "outputs": [],
   "source": [
    "(X_train, Y_train), (X_test, Y_test) = imdb.load_data(num_words=10000, seed=19) \n",
    "# Keeps 10000 most frequently occuring words in the trainong data\n",
    "\n",
    "# Encoding the integer sequences into a binary matrix\n",
    "def vectorize_sequences(sequences, dimension=10000):\n",
    "    results = np.zeros((len(sequences), dimension))\n",
    "    for i, sequence in enumerate(sequences):\n",
    "        results[i, sequence] = 1.\n",
    "    return results\n",
    "\n",
    "x_train = vectorize_sequences(X_train)\n",
    "x_test = vectorize_sequences(X_test)\n",
    "\n",
    "# vectorize labels\n",
    "y_train = np.asarray(Y_train).astype('float32')\n",
    "y_test = np.asarray(Y_test).astype('float32')"
   ]
  },
  {
   "cell_type": "code",
   "execution_count": null,
   "id": "2e5eedee-04fe-403c-b609-20a909f27a2a",
   "metadata": {},
   "outputs": [],
   "source": [
    "print(X_train[0], len(X_train[0]))\n",
    "print(x_train[0], len(x_train[0]))"
   ]
  },
  {
   "cell_type": "code",
   "execution_count": null,
   "id": "4df42daf-3f7c-452c-994d-fe76fe295f5e",
   "metadata": {},
   "outputs": [],
   "source": [
    "print(Y_train[0])\n",
    "print(y_train[0])"
   ]
  },
  {
   "cell_type": "markdown",
   "id": "51628c1c-9101-40c7-a383-3d37be8bfa99",
   "metadata": {},
   "source": [
    "## Splitting into training and validation subsets"
   ]
  },
  {
   "cell_type": "code",
   "execution_count": null,
   "id": "4b0f113a-a395-4699-afe1-4fca97686e98",
   "metadata": {},
   "outputs": [],
   "source": [
    "print(len(x_train))\n",
    "print(x_train.shape)"
   ]
  },
  {
   "cell_type": "code",
   "execution_count": null,
   "id": "2ca8f19d-c3db-4817-96ca-298d25d77b61",
   "metadata": {},
   "outputs": [],
   "source": [
    "x_val = x_train[:10000, :]\n",
    "x_train = x_train[10000: ,  :]\n",
    "print(x_train.shape, x_val.shape)\n",
    "y_val = y_train[:10000]\n",
    "y_train = y_train[10000:]\n",
    "print(y_train.shape, y_val.shape)"
   ]
  },
  {
   "cell_type": "markdown",
   "id": "548472d5-c464-43c9-afa1-59f1ade52928",
   "metadata": {},
   "source": [
    "## Model Creation"
   ]
  },
  {
   "cell_type": "code",
   "execution_count": null,
   "id": "1e73a5d4-08af-4c62-abeb-10009aa1172a",
   "metadata": {},
   "outputs": [],
   "source": [
    "model = Sequential()\n",
    "model.add(Input((10000,)))\n",
    "model.add(Dense(16, activation=\"relu\"))\n",
    "model.add(Dense(16, activation=\"relu\"))\n",
    "model.add(Dense(1, activation=\"sigmoid\"))\n",
    "\n",
    "print(model.summary())"
   ]
  },
  {
   "cell_type": "code",
   "execution_count": null,
   "id": "f454311b-ab6c-4f37-8b26-a135949e2109",
   "metadata": {},
   "outputs": [],
   "source": [
    "model.compile(optimizer=RMSprop(learning_rate=0.001), loss=\"binary_crossentropy\", metrics=[\"accuracy\"])"
   ]
  },
  {
   "cell_type": "code",
   "execution_count": null,
   "id": "cf9a8e22-15d2-4b60-9272-c80c656a97fa",
   "metadata": {},
   "outputs": [],
   "source": [
    "# Model training\n",
    "epochs = 20\n",
    "history = model.fit(x_train, y_train,  epochs=epochs, batch_size=512, validation_data=(x_val, y_val))\n",
    "          "
   ]
  },
  {
   "cell_type": "markdown",
   "id": "54d14597-de1a-4669-9571-7a9e773fb81f",
   "metadata": {},
   "source": [
    "## Visualization for overfitting"
   ]
  },
  {
   "cell_type": "code",
   "execution_count": null,
   "id": "e0a480b0-7a1d-4c95-bc90-daccc1500e19",
   "metadata": {},
   "outputs": [],
   "source": [
    "hist = history.history\n",
    "plt.plot(range(1, epochs+1), hist[\"accuracy\"],marker=\"*\")\n",
    "plt.plot(range(1, epochs+1), hist[\"val_accuracy\"], marker=\"^\")\n",
    "plt.legend([\"Train\", \"validation\"])\n",
    "plt.xlabel(\"epoch\")\n",
    "plt.ylabel(\"Accuracy\")\n",
    "plt.show()\n"
   ]
  },
  {
   "cell_type": "code",
   "execution_count": null,
   "id": "e045f2ab-fdf6-4448-ab6a-33e2b8cc01b0",
   "metadata": {},
   "outputs": [],
   "source": [
    "model.save(\"IMDB.keras\")"
   ]
  },
  {
   "cell_type": "code",
   "execution_count": null,
   "id": "58e02bd9-eebc-48af-a0f3-d24164de3f9b",
   "metadata": {},
   "outputs": [],
   "source": []
  }
 ],
 "metadata": {
  "kernelspec": {
   "display_name": "Python 3 (ipykernel)",
   "language": "python",
   "name": "python3"
  },
  "language_info": {
   "codemirror_mode": {
    "name": "ipython",
    "version": 3
   },
   "file_extension": ".py",
   "mimetype": "text/x-python",
   "name": "python",
   "nbconvert_exporter": "python",
   "pygments_lexer": "ipython3",
   "version": "3.11.5"
  }
 },
 "nbformat": 4,
 "nbformat_minor": 5
}
